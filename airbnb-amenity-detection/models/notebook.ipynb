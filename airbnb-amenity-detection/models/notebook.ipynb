{
  "cells": [
    {
      "cell_type": "code",
      "execution_count": 35,
      "metadata": {
        "id": "dx6970AtWUBg"
      },
      "outputs": [],
      "source": [
        "import findspark\n",
        "findspark.init()\n",
        "from pyspark.sql import SparkSession\n",
        "from pyspark.sql import Row\n",
        "import pandas as pd\n",
        "import numpy as np\n",
        "import os\n",
        "from pyspark.sql.functions import col,lit\n",
        "import matplotlib.pyplot as plt\n",
        "import seaborn as sns\n",
        "\n"
      ]
    },
    {
      "cell_type": "code",
      "execution_count": 2,
      "metadata": {},
      "outputs": [],
      "source": [
        "jar_path = os.path.join(os.getcwd(), \"./postgresql-42.7.3.jar\")\n",
        "spark = SparkSession.builder \\\n",
        "    .appName(\"Airbnb Paris\") \\\n",
        "    .config(\"spark.jars\", jar_path) \\\n",
        "    .config(\"spark.executor.memory\", \"4g\") \\\n",
        "    .config(\"spark.driver.memory\", \"4g\") \\\n",
        "    .getOrCreate()"
      ]
    },
    {
      "cell_type": "code",
      "execution_count": 3,
      "metadata": {},
      "outputs": [],
      "source": [
        "jdbc_url = \"jdbc:postgresql://localhost:5432/airbnb_paris\"\n",
        "\n",
        "connection_props = {\n",
        "    \"user\": \"postgres\",\n",
        "    \"password\": \"postgres\",\n",
        "    \"driver\": \"org.postgresql.Driver\"\n",
        "}"
      ]
    },
    {
      "cell_type": "code",
      "execution_count": 4,
      "metadata": {},
      "outputs": [],
      "source": [
        "df_listing = spark.read.jdbc(jdbc_url, \"listings\", properties=connection_props)\n",
        "df_reviews = spark.read.jdbc(jdbc_url, \"reviews\", properties=connection_props)\n",
        "df_neighbourhoods = spark.read.jdbc(jdbc_url, \"neighbourhoods\", properties=connection_props)"
      ]
    },
    {
      "cell_type": "code",
      "execution_count": 5,
      "metadata": {},
      "outputs": [
        {
          "name": "stdout",
          "output_type": "stream",
          "text": [
            "root\n",
            " |-- row_id: long (nullable = true)\n",
            " |-- id: long (nullable = true)\n",
            " |-- name: string (nullable = true)\n",
            " |-- host_id: long (nullable = true)\n",
            " |-- host_name: string (nullable = true)\n",
            " |-- neighbourhood_group: string (nullable = true)\n",
            " |-- neighbourhood: string (nullable = true)\n",
            " |-- latitude: decimal(9,6) (nullable = true)\n",
            " |-- longitude: decimal(9,6) (nullable = true)\n",
            " |-- room_type: string (nullable = true)\n",
            " |-- price: decimal(10,2) (nullable = true)\n",
            " |-- minimum_nights: integer (nullable = true)\n",
            " |-- number_of_reviews: integer (nullable = true)\n",
            " |-- last_review: date (nullable = true)\n",
            " |-- reviews_per_month: decimal(4,2) (nullable = true)\n",
            " |-- calculated_host_listings_count: integer (nullable = true)\n",
            " |-- availability_365: integer (nullable = true)\n",
            " |-- number_of_reviews_ltm: integer (nullable = true)\n",
            " |-- license: string (nullable = true)\n",
            " |-- trimestre: integer (nullable = true)\n",
            "\n",
            "root\n",
            " |-- listing_id: long (nullable = true)\n",
            " |-- row_id: long (nullable = true)\n",
            " |-- date: date (nullable = true)\n",
            " |-- trimestre: integer (nullable = true)\n",
            "\n",
            "root\n",
            " |-- neighbourhood_group: string (nullable = true)\n",
            " |-- neighbourhood: string (nullable = true)\n",
            "\n",
            "Nombre de logements : 366774\n",
            "Nombre de reviews : 7763645\n"
          ]
        }
      ],
      "source": [
        "df_listing.printSchema()\n",
        "df_reviews.printSchema()\n",
        "df_neighbourhoods.printSchema()\n",
        "\n",
        "print(f\"Nombre de logements : {df_listing.count()}\")\n",
        "print(f\"Nombre de reviews : {df_reviews.count()}\")"
      ]
    },
    {
      "cell_type": "code",
      "execution_count": 6,
      "metadata": {},
      "outputs": [
        {
          "name": "stdout",
          "output_type": "stream",
          "text": [
            "+------+------------------+--------------------+---------+----------------+-------------------+-------------------+---------+---------+---------------+------+--------------+-----------------+-----------+-----------------+------------------------------+----------------+---------------------+-------------+---------+\n",
            "|row_id|                id|                name|  host_id|       host_name|neighbourhood_group|      neighbourhood| latitude|longitude|      room_type| price|minimum_nights|number_of_reviews|last_review|reviews_per_month|calculated_host_listings_count|availability_365|number_of_reviews_ltm|      license|trimestre|\n",
            "+------+------------------+--------------------+---------+----------------+-------------------+-------------------+---------+---------+---------------+------+--------------+-----------------+-----------+-----------------+------------------------------+----------------+---------------------+-------------+---------+\n",
            "| 63310|929779501544846945|Duplex 2 chambres...| 53832674|        Sandrine|             Unknow|              Opéra|48.874214| 2.343349|Entire home/apt|317.00|             3|                5| 2023-10-31|             0.86|                             1|             136|                    5|7510909025786|        1|\n",
            "| 63311|929782535598478704|Appartement cosy ...|469564453|        Isabelle|             Unknow|Batignolles-Monceau|48.891860| 2.320080|Entire home/apt|200.00|             3|                4| 2023-11-26|             0.50|                             1|             114|                    4|7511709152359|        1|\n",
            "| 63312|929569859936039399|Magnifique appart...|131451018|Marie Et Cyrille|             Unknow|         Popincourt|48.862473| 2.378235|Entire home/apt|145.00|             2|                3| 2023-10-30|             0.58|                             1|             256|                    3|7511109047904|        1|\n",
            "| 63313|928918259796652176|Typiquement Parisien| 35532984|         Nicolas|             Unknow|         Popincourt|48.853000| 2.387699|Entire home/apt|150.00|             2|                2| 2023-10-11|             0.34|                             1|             269|                    2|7511109136885|        1|\n",
            "| 63314|929571747582293690|Climb in a Hut Cl...|524052241|           Yohan|             Unknow|  Buttes-Montmartre|48.887900| 2.351560|Entire home/apt|129.00|             1|                0|       NULL|             NULL|                             1|               0|                    0|7511806513833|        1|\n",
            "+------+------------------+--------------------+---------+----------------+-------------------+-------------------+---------+---------+---------------+------+--------------+-----------------+-----------+-----------------+------------------------------+----------------+---------------------+-------------+---------+\n",
            "only showing top 5 rows\n",
            "\n"
          ]
        }
      ],
      "source": [
        "df_listing.show(5)"
      ]
    },
    {
      "cell_type": "code",
      "execution_count": 7,
      "metadata": {},
      "outputs": [
        {
          "name": "stdout",
          "output_type": "stream",
          "text": [
            "+----------+------+----------+---------+\n",
            "|listing_id|row_id|      date|trimestre|\n",
            "+----------+------+----------+---------+\n",
            "|     39948|  4001|2013-09-20|        1|\n",
            "|     39948|  4002|2013-09-29|        1|\n",
            "|     39948|  4003|2014-05-29|        1|\n",
            "|     39948|  4004|2014-09-17|        1|\n",
            "|     39948|  4005|2014-09-20|        1|\n",
            "+----------+------+----------+---------+\n",
            "only showing top 5 rows\n",
            "\n"
          ]
        }
      ],
      "source": [
        "df_reviews.show(5)"
      ]
    },
    {
      "cell_type": "code",
      "execution_count": 8,
      "metadata": {},
      "outputs": [
        {
          "name": "stdout",
          "output_type": "stream",
          "text": [
            "+-------------------+-------------------+\n",
            "|neighbourhood_group|      neighbourhood|\n",
            "+-------------------+-------------------+\n",
            "|             Unknow|Batignolles-Monceau|\n",
            "|             Unknow|             Bourse|\n",
            "|             Unknow|    Buttes-Chaumont|\n",
            "|             Unknow|  Buttes-Montmartre|\n",
            "|             Unknow|             Élysée|\n",
            "+-------------------+-------------------+\n",
            "only showing top 5 rows\n",
            "\n"
          ]
        }
      ],
      "source": [
        "df_neighbourhoods.show(5)"
      ]
    },
    {
      "cell_type": "code",
      "execution_count": 9,
      "metadata": {
        "colab": {
          "base_uri": "https://localhost:8080/"
        },
        "id": "CzSbRsKUWlom",
        "outputId": "ab1cded4-dd0e-4a0c-f8b6-bb9e8154d80e"
      },
      "outputs": [
        {
          "name": "stdout",
          "output_type": "stream",
          "text": [
            "taille listing trimestre 1 : 84397\n",
            "taille listing trimestre 2 : 95885\n",
            "taille listing trimestre 3 : 95461\n",
            "taille listing trimestre 4 : 91031\n"
          ]
        }
      ],
      "source": [
        "df_listingT1 = df_listing.filter(df_listing[\"trimestre\"] == 1)\n",
        "df_listingT2 = df_listing.filter(df_listing[\"trimestre\"] == 2)\n",
        "df_listingT3 = df_listing.filter(df_listing[\"trimestre\"] == 3)\n",
        "df_listingT4 = df_listing.filter(df_listing[\"trimestre\"] == 4)\n",
        "\n",
        "print(f'taille listing trimestre 1 : {df_listingT1.count()}')\n",
        "print(f'taille listing trimestre 2 : {df_listingT2.count()}')\n",
        "print(f'taille listing trimestre 3 : {df_listingT3.count()}')\n",
        "print(f'taille listing trimestre 4 : {df_listingT4.count()}')"
      ]
    },
    {
      "cell_type": "code",
      "execution_count": 10,
      "metadata": {
        "colab": {
          "base_uri": "https://localhost:8080/"
        },
        "id": "APW_asgOWxkM",
        "outputId": "79c74bc2-ce9a-41dd-c825-fe712df6dc86"
      },
      "outputs": [
        {
          "name": "stdout",
          "output_type": "stream",
          "text": [
            "taille reviews trimestre 1 : 1794006\n",
            "taille reviews trimestre 2 : 1906979\n",
            "taille reviews trimestre 3 : 1999650\n",
            "taille reviews trimestre 4 : 2063010\n"
          ]
        }
      ],
      "source": [
        "df_reviewsT1 = df_reviews.filter(df_reviews[\"trimestre\"] == 1)\n",
        "df_reviewsT2 = df_reviews.filter(df_reviews[\"trimestre\"] == 2)\n",
        "df_reviewsT3 = df_reviews.filter(df_reviews[\"trimestre\"] == 3)\n",
        "df_reviewsT4 = df_reviews.filter(df_reviews[\"trimestre\"] == 4)\n",
        "\n",
        "print(f'taille reviews trimestre 1 : {df_reviewsT1.count()}')\n",
        "print(f'taille reviews trimestre 2 : {df_reviewsT2.count()}')\n",
        "print(f'taille reviews trimestre 3 : {df_reviewsT3.count()}')\n",
        "print(f'taille reviews trimestre 4 : {df_reviewsT4.count()}')"
      ]
    },
    {
      "cell_type": "code",
      "execution_count": 11,
      "metadata": {
        "colab": {
          "base_uri": "https://localhost:8080/",
          "height": 913
        },
        "id": "T2UmEj76XsUQ",
        "outputId": "146c2c32-5900-4a81-d9da-eccce264821a"
      },
      "outputs": [],
      "source": [
        "df_merged = pd.merge(df_listingT4.toPandas(), df_listingT3.toPandas(), on='id', how='left', indicator=True)\n",
        "df_merged_R = pd.merge(df_listingT4.toPandas(), df_listingT3.toPandas(), on='id', how='right', indicator=True)\n",
        "\n",
        "#Filtrer les lignes qui existent uniquement au trimestr 4 (c'est-à-dire celles dont la colonne _merge vaut 'left_only')\n",
        "df_only_in_trim4 = df_merged[df_merged['_merge'] == 'left_only']\n",
        "\n",
        "df_only_in_trim3 = df_merged_R[df_merged_R['_merge'] == 'right_only']\n"
      ]
    },
    {
      "cell_type": "code",
      "execution_count": 12,
      "metadata": {
        "colab": {
          "base_uri": "https://localhost:8080/",
          "height": 617
        },
        "id": "zTXoTF3aYXdK",
        "outputId": "f4f8b656-c23b-420e-f28a-d60ea233739a"
      },
      "outputs": [
        {
          "name": "stdout",
          "output_type": "stream",
          "text": [
            "taille annonces présentes uniquement en T4 : 5548\n",
            "taille annonces présentes uniquement en T3 : 9978\n"
          ]
        }
      ],
      "source": [
        "print(f'taille annonces présentes uniquement en T4 : {df_only_in_trim4.shape[0]}')\n",
        "print(f'taille annonces présentes uniquement en T3 : {df_only_in_trim3.shape[0]}')"
      ]
    },
    {
      "cell_type": "markdown",
      "metadata": {},
      "source": [
        "Cela nous montre qu'il ya des annonces qui sont supprimées et d'autres ajoutée dans le temps !\n",
        " Nous concernant nous nous interresseront plus bas uniquement aux annonces qui étaient présentes tout le long de l'année 2024"
      ]
    },
    {
      "cell_type": "code",
      "execution_count": 13,
      "metadata": {},
      "outputs": [],
      "source": [
        "def rename_columns(df, suffix):\n",
        "    return df.select([\n",
        "        col(c).alias(f\"{c}_{suffix}\") if c != \"id\" else col(c)\n",
        "        for c in df.columns\n",
        "    ])"
      ]
    },
    {
      "cell_type": "code",
      "execution_count": 14,
      "metadata": {},
      "outputs": [
        {
          "name": "stdout",
          "output_type": "stream",
          "text": [
            "+-----+---------+--------------------+----------+------------+----------------------+----------------+-----------+------------+---------------+--------+-----------------+--------------------+--------------+--------------------+---------------------------------+-------------------+------------------------+-------------+------------+---------+--------------------+----------+------------+----------------------+----------------+-----------+------------+---------------+--------+-----------------+--------------------+--------------+--------------------+---------------------------------+-------------------+------------------------+-------------+------------+---------+--------------------+----------+------------+----------------------+----------------+-----------+------------+---------------+--------+-----------------+--------------------+--------------+--------------------+---------------------------------+-------------------+------------------------+-------------+------------+---------+--------------------+----------+------------+----------------------+----------------+-----------+------------+---------------+--------+-----------------+--------------------+--------------+--------------------+---------------------------------+-------------------+------------------------+-------------+------------+\n",
            "|   id|row_id_T1|             name_T1|host_id_T1|host_name_T1|neighbourhood_group_T1|neighbourhood_T1|latitude_T1|longitude_T1|   room_type_T1|price_T1|minimum_nights_T1|number_of_reviews_T1|last_review_T1|reviews_per_month_T1|calculated_host_listings_count_T1|availability_365_T1|number_of_reviews_ltm_T1|   license_T1|trimestre_T1|row_id_T2|             name_T2|host_id_T2|host_name_T2|neighbourhood_group_T2|neighbourhood_T2|latitude_T2|longitude_T2|   room_type_T2|price_T2|minimum_nights_T2|number_of_reviews_T2|last_review_T2|reviews_per_month_T2|calculated_host_listings_count_T2|availability_365_T2|number_of_reviews_ltm_T2|   license_T2|trimestre_T2|row_id_T3|             name_T3|host_id_T3|host_name_T3|neighbourhood_group_T3|neighbourhood_T3|latitude_T3|longitude_T3|   room_type_T3|price_T3|minimum_nights_T3|number_of_reviews_T3|last_review_T3|reviews_per_month_T3|calculated_host_listings_count_T3|availability_365_T3|number_of_reviews_ltm_T3|   license_T3|trimestre_T3|row_id_T4|             name_T4|host_id_T4|host_name_T4|neighbourhood_group_T4|neighbourhood_T4|latitude_T4|longitude_T4|   room_type_T4|price_T4|minimum_nights_T4|number_of_reviews_T4|last_review_T4|reviews_per_month_T4|calculated_host_listings_count_T4|availability_365_T4|number_of_reviews_ltm_T4|   license_T4|trimestre_T4|\n",
            "+-----+---------+--------------------+----------+------------+----------------------+----------------+-----------+------------+---------------+--------+-----------------+--------------------+--------------+--------------------+---------------------------------+-------------------+------------------------+-------------+------------+---------+--------------------+----------+------------+----------------------+----------------+-----------+------------+---------------+--------+-----------------+--------------------+--------------+--------------------+---------------------------------+-------------------+------------------------+-------------+------------+---------+--------------------+----------+------------+----------------------+----------------+-----------+------------+---------------+--------+-----------------+--------------------+--------------+--------------------+---------------------------------+-------------------+------------------------+-------------+------------+---------+--------------------+----------+------------+----------------------+----------------+-----------+------------+---------------+--------+-----------------+--------------------+--------------+--------------------+---------------------------------+-------------------+------------------------+-------------+------------+\n",
            "| 5396|     4005|Your perfect Pari...|      7903|      Borzou|                Unknow|  Hôtel-de-Ville|  48.852470|    2.358350|Entire home/apt|  107.00|                1|                 393|    2024-03-14|                2.19|                                2|                183|                      61|7510402838018|           1|   118958|Your perfect Pari...|      7903|      Borzou|                Unknow|  Hôtel-de-Ville|  48.852470|    2.358350|Entire home/apt|   96.00|                2|                 403|    2024-05-24|                2.21|                                1|                154|                      64|7510402838018|           2|   184364|Your perfect Pari...|      7903|      Borzou|                Unknow|  Hôtel-de-Ville|  48.852470|    2.358350|Entire home/apt|   95.00|                2|                 413|    2024-09-01|                2.23|                                1|                 77|                      57|7510402838018|           3|   279744|Your perfect Pari...|      7903|      Borzou|                Unknow|  Hôtel-de-Ville|  48.852470|    2.358350|Entire home/apt|   88.00|                3|                 425|    2024-11-23|                2.26|                                1|                 77|                      51|7510402838018|           4|\n",
            "| 9952|     4018|Paris petit coin ...|     33534|   Elisabeth|                Unknow|      Popincourt|  48.863730|    2.370930|Entire home/apt|  130.00|                4|                  49|    2023-09-24|                0.37|                                1|                 18|                       7|7511101582862|           1|   138634|Paris petit coin ...|     33534|   Elisabeth|                Unknow|      Popincourt|  48.863730|    2.370930|Entire home/apt|  169.00|                4|                  51|    2024-05-23|                0.37|                                1|                105|                       4|7511101582862|           2|   184368|Paris petit coin ...|     33534|   Elisabeth|                Unknow|      Popincourt|  48.863730|    2.370930|Entire home/apt|  246.00|                4|                  51|    2024-05-23|                0.36|                                1|                183|                       3|7511101582862|           3|   279746|Paris petit coin ...|     33534|   Elisabeth|                Unknow|      Popincourt|  48.862380|    2.369570|Entire home/apt|  150.00|                4|                  52|    2024-09-24|                0.36|                                1|                250|                       3|7511101582862|           4|\n",
            "|17316|     4060|BEAUTIFUL APT IN ...|     67192|       Frank|                Unknow|        Entrepôt|  48.871720|    2.361840|Entire home/apt|    0.00|                3|                   0|          NULL|                NULL|                                1|                  0|                       0|7512345678902|           1|   113498|BEAUTIFUL APT IN ...|     67192|       Frank|                Unknow|        Entrepôt|  48.871720|    2.361840|Entire home/apt|    0.00|                3|                   0|          NULL|                NULL|                                1|                  0|                       0|7512345678902|           2|   184380|BEAUTIFUL APT IN ...|     67192|       Frank|                Unknow|        Entrepôt|  48.871720|    2.361840|Entire home/apt|    0.00|                3|                   0|          NULL|                NULL|                                1|                  0|                       0|7512345678902|           3|   279847|BEAUTIFUL APT IN ...|     67192|       Frank|                Unknow|        Entrepôt|  48.871720|    2.361840|Entire home/apt|    0.00|                3|                   0|          NULL|                NULL|                                1|                  0|                       0|7512345678902|           4|\n",
            "|22979|     4082|Staying in the He...|     89023|        Lisa|                Unknow|  Hôtel-de-Ville|  48.854240|    2.349750|   Private room|    0.00|                3|                 315|    2024-03-16|                1.87|                                1|                  0|                      18|         NULL|           1|   164325|Staying in the He...|     89023|        Lisa|                Unknow|  Hôtel-de-Ville|  48.854240|    2.349750|   Private room|    0.00|                3|                 320|    2024-06-06|                1.87|                                1|                  0|                      20|         NULL|           2|   184386|Staying in the He...|     89023|        Lisa|                Unknow|  Hôtel-de-Ville|  48.854240|    2.349750|   Private room|    0.00|                3|                 320|    2024-06-06|                1.84|                                1|                  2|                      17|         NULL|           3|   279850|Staying in the He...|     89023|        Lisa|                Unknow|  Hôtel-de-Ville|  48.854240|    2.349750|   Private room|   90.00|                3|                 325|    2024-11-17|                1.84|                                1|                 20|                      14|         NULL|           4|\n",
            "|26827|     4100|UN LOFT A PARIS B...|    114407|      Jrouma|                Unknow| Buttes-Chaumont|  48.874560|    2.385320|Entire home/apt|   97.00|                7|                  80|    2019-10-27|                0.48|                                2|                137|                       0|7512005333644|           1|   145603|UN LOFT A PARIS B...|    114407|      Jrouma|                Unknow| Buttes-Chaumont|  48.874560|    2.385320|Entire home/apt|   97.00|                7|                  80|    2019-10-27|                0.47|                                2|                223|                       0|7512005333644|           2|   184392|UN LOFT A PARIS B...|    114407|      Jrouma|                Unknow| Buttes-Chaumont|  48.874560|    2.385320|Entire home/apt|   97.00|                7|                  80|    2019-10-27|                0.46|                                2|                  0|                       0|7512005333644|           3|   279854|UN LOFT A PARIS B...|    114407|      Jrouma|                Unknow| Buttes-Chaumont|  48.874560|    2.385320|Entire home/apt|   97.00|                7|                  80|    2019-10-27|                0.45|                                2|                 67|                       0|7512005333644|           4|\n",
            "+-----+---------+--------------------+----------+------------+----------------------+----------------+-----------+------------+---------------+--------+-----------------+--------------------+--------------+--------------------+---------------------------------+-------------------+------------------------+-------------+------------+---------+--------------------+----------+------------+----------------------+----------------+-----------+------------+---------------+--------+-----------------+--------------------+--------------+--------------------+---------------------------------+-------------------+------------------------+-------------+------------+---------+--------------------+----------+------------+----------------------+----------------+-----------+------------+---------------+--------+-----------------+--------------------+--------------+--------------------+---------------------------------+-------------------+------------------------+-------------+------------+---------+--------------------+----------+------------+----------------------+----------------+-----------+------------+---------------+--------+-----------------+--------------------+--------------+--------------------+---------------------------------+-------------------+------------------------+-------------+------------+\n",
            "only showing top 5 rows\n",
            "\n"
          ]
        }
      ],
      "source": [
        "dfT1 = rename_columns(df_listingT1, \"T1\")\n",
        "dfT2 = rename_columns(df_listingT2, \"T2\")\n",
        "dfT3 = rename_columns(df_listingT3, \"T3\")\n",
        "dfT4 = rename_columns(df_listingT4, \"T4\")\n",
        "\n",
        "\n",
        "merged_df = dfT1.join(dfT2, on='id', how='inner') \\\n",
        "                .join(dfT3, on='id', how='inner') \\\n",
        "                .join(dfT4, on='id', how='inner')\n",
        "\n",
        "merged_df.show(5)"
      ]
    },
    {
      "cell_type": "code",
      "execution_count": 16,
      "metadata": {
        "colab": {
          "base_uri": "https://localhost:8080/"
        },
        "id": "ZMI82ab0sZ8u",
        "outputId": "61d5c41a-b884-45f7-d156-7c8f7d1d7ca7"
      },
      "outputs": [
        {
          "data": {
            "text/plain": [
              "65003"
            ]
          },
          "execution_count": 16,
          "metadata": {},
          "output_type": "execute_result"
        }
      ],
      "source": [
        "merged_df.count()"
      ]
    },
    {
      "cell_type": "markdown",
      "metadata": {},
      "source": [
        "#Analyse de la persistance des annonces Airbnb au fil des trimestres\n",
        " \n",
        " Ce bloc de code vise à évaluer la continuité des annonces Airbnb sur quatre périodes distinctes.\n",
        " Pour chaque période (trimestre), les identifiants uniques des logements sont extraits et comparés.\n",
        " Une matrice binaire est ensuite construite pour représenter la présence (1) ou l'absence (0) d'un logement\n",
        " à chaque période. Cette matrice est utilisée pour générer une colonne de combinaison, permettant de catégoriser\n",
        " les logements selon leur fréquence de réapparition.\n",
        "\n",
        " Un graphique sunburst est enfin généré pour visualiser la distribution des logements en fonction de leur \n",
        " persistance dans le temps. Cela permet d’identifier par exemple les annonces actives sur une seule période\n",
        " ou celles présentes tout au long de l’année.\n"
      ]
    },
    {
      "cell_type": "code",
      "execution_count": 17,
      "metadata": {},
      "outputs": [
        {
          "data": {
            "application/vnd.plotly.v1+json": {
              "config": {
                "plotlyServerURL": "https://plot.ly"
              },
              "data": [
                {
                  "branchvalues": "total",
                  "domain": {
                    "x": [
                      0,
                      1
                    ],
                    "y": [
                      0,
                      1
                    ]
                  },
                  "hovertemplate": "labels=%{label}<br>count=%{value}<br>parent=%{parent}<br>id=%{id}<extra></extra>",
                  "ids": [
                    "1111",
                    "1100",
                    "0100",
                    "1010",
                    "0101",
                    "1000",
                    "0111",
                    "0011",
                    "1110",
                    "0110",
                    "0010",
                    "0001",
                    "1011",
                    "1101",
                    "1001"
                  ],
                  "labels": [
                    "1111",
                    "1100",
                    "0100",
                    "1010",
                    "0101",
                    "1000",
                    "0111",
                    "0011",
                    "1110",
                    "0110",
                    "0010",
                    "0001",
                    "1011",
                    "1101",
                    "1001"
                  ],
                  "name": "",
                  "parents": [
                    "",
                    "",
                    "",
                    "",
                    "",
                    "",
                    "",
                    "",
                    "",
                    "",
                    "",
                    "",
                    "",
                    "",
                    ""
                  ],
                  "type": "sunburst",
                  "values": {
                    "bdata": "AAAAAGC970AAAAAAABe3QAAAAAAAjq5AAAAAAABAXkAAAAAAAIBhQAAAAAAAFrxAAAAAAICeyEAAAAAAAH+9QAAAAAAA0LRAAAAAAACmpEAAAAAAAHidQAAAAAAAGLNAAAAAAABAdEAAAAAAAIB1QAAAAAAAAGZA",
                    "dtype": "f8"
                  }
                }
              ],
              "layout": {
                "legend": {
                  "tracegroupgap": 0
                },
                "template": {
                  "data": {
                    "bar": [
                      {
                        "error_x": {
                          "color": "#2a3f5f"
                        },
                        "error_y": {
                          "color": "#2a3f5f"
                        },
                        "marker": {
                          "line": {
                            "color": "#E5ECF6",
                            "width": 0.5
                          },
                          "pattern": {
                            "fillmode": "overlay",
                            "size": 10,
                            "solidity": 0.2
                          }
                        },
                        "type": "bar"
                      }
                    ],
                    "barpolar": [
                      {
                        "marker": {
                          "line": {
                            "color": "#E5ECF6",
                            "width": 0.5
                          },
                          "pattern": {
                            "fillmode": "overlay",
                            "size": 10,
                            "solidity": 0.2
                          }
                        },
                        "type": "barpolar"
                      }
                    ],
                    "carpet": [
                      {
                        "aaxis": {
                          "endlinecolor": "#2a3f5f",
                          "gridcolor": "white",
                          "linecolor": "white",
                          "minorgridcolor": "white",
                          "startlinecolor": "#2a3f5f"
                        },
                        "baxis": {
                          "endlinecolor": "#2a3f5f",
                          "gridcolor": "white",
                          "linecolor": "white",
                          "minorgridcolor": "white",
                          "startlinecolor": "#2a3f5f"
                        },
                        "type": "carpet"
                      }
                    ],
                    "choropleth": [
                      {
                        "colorbar": {
                          "outlinewidth": 0,
                          "ticks": ""
                        },
                        "type": "choropleth"
                      }
                    ],
                    "contour": [
                      {
                        "colorbar": {
                          "outlinewidth": 0,
                          "ticks": ""
                        },
                        "colorscale": [
                          [
                            0,
                            "#0d0887"
                          ],
                          [
                            0.1111111111111111,
                            "#46039f"
                          ],
                          [
                            0.2222222222222222,
                            "#7201a8"
                          ],
                          [
                            0.3333333333333333,
                            "#9c179e"
                          ],
                          [
                            0.4444444444444444,
                            "#bd3786"
                          ],
                          [
                            0.5555555555555556,
                            "#d8576b"
                          ],
                          [
                            0.6666666666666666,
                            "#ed7953"
                          ],
                          [
                            0.7777777777777778,
                            "#fb9f3a"
                          ],
                          [
                            0.8888888888888888,
                            "#fdca26"
                          ],
                          [
                            1,
                            "#f0f921"
                          ]
                        ],
                        "type": "contour"
                      }
                    ],
                    "contourcarpet": [
                      {
                        "colorbar": {
                          "outlinewidth": 0,
                          "ticks": ""
                        },
                        "type": "contourcarpet"
                      }
                    ],
                    "heatmap": [
                      {
                        "colorbar": {
                          "outlinewidth": 0,
                          "ticks": ""
                        },
                        "colorscale": [
                          [
                            0,
                            "#0d0887"
                          ],
                          [
                            0.1111111111111111,
                            "#46039f"
                          ],
                          [
                            0.2222222222222222,
                            "#7201a8"
                          ],
                          [
                            0.3333333333333333,
                            "#9c179e"
                          ],
                          [
                            0.4444444444444444,
                            "#bd3786"
                          ],
                          [
                            0.5555555555555556,
                            "#d8576b"
                          ],
                          [
                            0.6666666666666666,
                            "#ed7953"
                          ],
                          [
                            0.7777777777777778,
                            "#fb9f3a"
                          ],
                          [
                            0.8888888888888888,
                            "#fdca26"
                          ],
                          [
                            1,
                            "#f0f921"
                          ]
                        ],
                        "type": "heatmap"
                      }
                    ],
                    "histogram": [
                      {
                        "marker": {
                          "pattern": {
                            "fillmode": "overlay",
                            "size": 10,
                            "solidity": 0.2
                          }
                        },
                        "type": "histogram"
                      }
                    ],
                    "histogram2d": [
                      {
                        "colorbar": {
                          "outlinewidth": 0,
                          "ticks": ""
                        },
                        "colorscale": [
                          [
                            0,
                            "#0d0887"
                          ],
                          [
                            0.1111111111111111,
                            "#46039f"
                          ],
                          [
                            0.2222222222222222,
                            "#7201a8"
                          ],
                          [
                            0.3333333333333333,
                            "#9c179e"
                          ],
                          [
                            0.4444444444444444,
                            "#bd3786"
                          ],
                          [
                            0.5555555555555556,
                            "#d8576b"
                          ],
                          [
                            0.6666666666666666,
                            "#ed7953"
                          ],
                          [
                            0.7777777777777778,
                            "#fb9f3a"
                          ],
                          [
                            0.8888888888888888,
                            "#fdca26"
                          ],
                          [
                            1,
                            "#f0f921"
                          ]
                        ],
                        "type": "histogram2d"
                      }
                    ],
                    "histogram2dcontour": [
                      {
                        "colorbar": {
                          "outlinewidth": 0,
                          "ticks": ""
                        },
                        "colorscale": [
                          [
                            0,
                            "#0d0887"
                          ],
                          [
                            0.1111111111111111,
                            "#46039f"
                          ],
                          [
                            0.2222222222222222,
                            "#7201a8"
                          ],
                          [
                            0.3333333333333333,
                            "#9c179e"
                          ],
                          [
                            0.4444444444444444,
                            "#bd3786"
                          ],
                          [
                            0.5555555555555556,
                            "#d8576b"
                          ],
                          [
                            0.6666666666666666,
                            "#ed7953"
                          ],
                          [
                            0.7777777777777778,
                            "#fb9f3a"
                          ],
                          [
                            0.8888888888888888,
                            "#fdca26"
                          ],
                          [
                            1,
                            "#f0f921"
                          ]
                        ],
                        "type": "histogram2dcontour"
                      }
                    ],
                    "mesh3d": [
                      {
                        "colorbar": {
                          "outlinewidth": 0,
                          "ticks": ""
                        },
                        "type": "mesh3d"
                      }
                    ],
                    "parcoords": [
                      {
                        "line": {
                          "colorbar": {
                            "outlinewidth": 0,
                            "ticks": ""
                          }
                        },
                        "type": "parcoords"
                      }
                    ],
                    "pie": [
                      {
                        "automargin": true,
                        "type": "pie"
                      }
                    ],
                    "scatter": [
                      {
                        "fillpattern": {
                          "fillmode": "overlay",
                          "size": 10,
                          "solidity": 0.2
                        },
                        "type": "scatter"
                      }
                    ],
                    "scatter3d": [
                      {
                        "line": {
                          "colorbar": {
                            "outlinewidth": 0,
                            "ticks": ""
                          }
                        },
                        "marker": {
                          "colorbar": {
                            "outlinewidth": 0,
                            "ticks": ""
                          }
                        },
                        "type": "scatter3d"
                      }
                    ],
                    "scattercarpet": [
                      {
                        "marker": {
                          "colorbar": {
                            "outlinewidth": 0,
                            "ticks": ""
                          }
                        },
                        "type": "scattercarpet"
                      }
                    ],
                    "scattergeo": [
                      {
                        "marker": {
                          "colorbar": {
                            "outlinewidth": 0,
                            "ticks": ""
                          }
                        },
                        "type": "scattergeo"
                      }
                    ],
                    "scattergl": [
                      {
                        "marker": {
                          "colorbar": {
                            "outlinewidth": 0,
                            "ticks": ""
                          }
                        },
                        "type": "scattergl"
                      }
                    ],
                    "scattermap": [
                      {
                        "marker": {
                          "colorbar": {
                            "outlinewidth": 0,
                            "ticks": ""
                          }
                        },
                        "type": "scattermap"
                      }
                    ],
                    "scattermapbox": [
                      {
                        "marker": {
                          "colorbar": {
                            "outlinewidth": 0,
                            "ticks": ""
                          }
                        },
                        "type": "scattermapbox"
                      }
                    ],
                    "scatterpolar": [
                      {
                        "marker": {
                          "colorbar": {
                            "outlinewidth": 0,
                            "ticks": ""
                          }
                        },
                        "type": "scatterpolar"
                      }
                    ],
                    "scatterpolargl": [
                      {
                        "marker": {
                          "colorbar": {
                            "outlinewidth": 0,
                            "ticks": ""
                          }
                        },
                        "type": "scatterpolargl"
                      }
                    ],
                    "scatterternary": [
                      {
                        "marker": {
                          "colorbar": {
                            "outlinewidth": 0,
                            "ticks": ""
                          }
                        },
                        "type": "scatterternary"
                      }
                    ],
                    "surface": [
                      {
                        "colorbar": {
                          "outlinewidth": 0,
                          "ticks": ""
                        },
                        "colorscale": [
                          [
                            0,
                            "#0d0887"
                          ],
                          [
                            0.1111111111111111,
                            "#46039f"
                          ],
                          [
                            0.2222222222222222,
                            "#7201a8"
                          ],
                          [
                            0.3333333333333333,
                            "#9c179e"
                          ],
                          [
                            0.4444444444444444,
                            "#bd3786"
                          ],
                          [
                            0.5555555555555556,
                            "#d8576b"
                          ],
                          [
                            0.6666666666666666,
                            "#ed7953"
                          ],
                          [
                            0.7777777777777778,
                            "#fb9f3a"
                          ],
                          [
                            0.8888888888888888,
                            "#fdca26"
                          ],
                          [
                            1,
                            "#f0f921"
                          ]
                        ],
                        "type": "surface"
                      }
                    ],
                    "table": [
                      {
                        "cells": {
                          "fill": {
                            "color": "#EBF0F8"
                          },
                          "line": {
                            "color": "white"
                          }
                        },
                        "header": {
                          "fill": {
                            "color": "#C8D4E3"
                          },
                          "line": {
                            "color": "white"
                          }
                        },
                        "type": "table"
                      }
                    ]
                  },
                  "layout": {
                    "annotationdefaults": {
                      "arrowcolor": "#2a3f5f",
                      "arrowhead": 0,
                      "arrowwidth": 1
                    },
                    "autotypenumbers": "strict",
                    "coloraxis": {
                      "colorbar": {
                        "outlinewidth": 0,
                        "ticks": ""
                      }
                    },
                    "colorscale": {
                      "diverging": [
                        [
                          0,
                          "#8e0152"
                        ],
                        [
                          0.1,
                          "#c51b7d"
                        ],
                        [
                          0.2,
                          "#de77ae"
                        ],
                        [
                          0.3,
                          "#f1b6da"
                        ],
                        [
                          0.4,
                          "#fde0ef"
                        ],
                        [
                          0.5,
                          "#f7f7f7"
                        ],
                        [
                          0.6,
                          "#e6f5d0"
                        ],
                        [
                          0.7,
                          "#b8e186"
                        ],
                        [
                          0.8,
                          "#7fbc41"
                        ],
                        [
                          0.9,
                          "#4d9221"
                        ],
                        [
                          1,
                          "#276419"
                        ]
                      ],
                      "sequential": [
                        [
                          0,
                          "#0d0887"
                        ],
                        [
                          0.1111111111111111,
                          "#46039f"
                        ],
                        [
                          0.2222222222222222,
                          "#7201a8"
                        ],
                        [
                          0.3333333333333333,
                          "#9c179e"
                        ],
                        [
                          0.4444444444444444,
                          "#bd3786"
                        ],
                        [
                          0.5555555555555556,
                          "#d8576b"
                        ],
                        [
                          0.6666666666666666,
                          "#ed7953"
                        ],
                        [
                          0.7777777777777778,
                          "#fb9f3a"
                        ],
                        [
                          0.8888888888888888,
                          "#fdca26"
                        ],
                        [
                          1,
                          "#f0f921"
                        ]
                      ],
                      "sequentialminus": [
                        [
                          0,
                          "#0d0887"
                        ],
                        [
                          0.1111111111111111,
                          "#46039f"
                        ],
                        [
                          0.2222222222222222,
                          "#7201a8"
                        ],
                        [
                          0.3333333333333333,
                          "#9c179e"
                        ],
                        [
                          0.4444444444444444,
                          "#bd3786"
                        ],
                        [
                          0.5555555555555556,
                          "#d8576b"
                        ],
                        [
                          0.6666666666666666,
                          "#ed7953"
                        ],
                        [
                          0.7777777777777778,
                          "#fb9f3a"
                        ],
                        [
                          0.8888888888888888,
                          "#fdca26"
                        ],
                        [
                          1,
                          "#f0f921"
                        ]
                      ]
                    },
                    "colorway": [
                      "#636efa",
                      "#EF553B",
                      "#00cc96",
                      "#ab63fa",
                      "#FFA15A",
                      "#19d3f3",
                      "#FF6692",
                      "#B6E880",
                      "#FF97FF",
                      "#FECB52"
                    ],
                    "font": {
                      "color": "#2a3f5f"
                    },
                    "geo": {
                      "bgcolor": "white",
                      "lakecolor": "white",
                      "landcolor": "#E5ECF6",
                      "showlakes": true,
                      "showland": true,
                      "subunitcolor": "white"
                    },
                    "hoverlabel": {
                      "align": "left"
                    },
                    "hovermode": "closest",
                    "mapbox": {
                      "style": "light"
                    },
                    "paper_bgcolor": "white",
                    "plot_bgcolor": "#E5ECF6",
                    "polar": {
                      "angularaxis": {
                        "gridcolor": "white",
                        "linecolor": "white",
                        "ticks": ""
                      },
                      "bgcolor": "#E5ECF6",
                      "radialaxis": {
                        "gridcolor": "white",
                        "linecolor": "white",
                        "ticks": ""
                      }
                    },
                    "scene": {
                      "xaxis": {
                        "backgroundcolor": "#E5ECF6",
                        "gridcolor": "white",
                        "gridwidth": 2,
                        "linecolor": "white",
                        "showbackground": true,
                        "ticks": "",
                        "zerolinecolor": "white"
                      },
                      "yaxis": {
                        "backgroundcolor": "#E5ECF6",
                        "gridcolor": "white",
                        "gridwidth": 2,
                        "linecolor": "white",
                        "showbackground": true,
                        "ticks": "",
                        "zerolinecolor": "white"
                      },
                      "zaxis": {
                        "backgroundcolor": "#E5ECF6",
                        "gridcolor": "white",
                        "gridwidth": 2,
                        "linecolor": "white",
                        "showbackground": true,
                        "ticks": "",
                        "zerolinecolor": "white"
                      }
                    },
                    "shapedefaults": {
                      "line": {
                        "color": "#2a3f5f"
                      }
                    },
                    "ternary": {
                      "aaxis": {
                        "gridcolor": "white",
                        "linecolor": "white",
                        "ticks": ""
                      },
                      "baxis": {
                        "gridcolor": "white",
                        "linecolor": "white",
                        "ticks": ""
                      },
                      "bgcolor": "#E5ECF6",
                      "caxis": {
                        "gridcolor": "white",
                        "linecolor": "white",
                        "ticks": ""
                      }
                    },
                    "title": {
                      "x": 0.05
                    },
                    "xaxis": {
                      "automargin": true,
                      "gridcolor": "white",
                      "linecolor": "white",
                      "ticks": "",
                      "title": {
                        "standoff": 15
                      },
                      "zerolinecolor": "white",
                      "zerolinewidth": 2
                    },
                    "yaxis": {
                      "automargin": true,
                      "gridcolor": "white",
                      "linecolor": "white",
                      "ticks": "",
                      "title": {
                        "standoff": 15
                      },
                      "zerolinecolor": "white",
                      "zerolinewidth": 2
                    }
                  }
                },
                "title": {
                  "text": "Distribution des logements Airbnb par trimestre"
                }
              }
            }
          },
          "metadata": {},
          "output_type": "display_data"
        }
      ],
      "source": [
        "from pyspark.sql.functions import lit, col\n",
        "from functools import reduce\n",
        "\n",
        "\n",
        "df_T1 = df_listingT1.select(\"id\").distinct().withColumn(\"T1\", lit(1))\n",
        "df_T2 = df_listingT2.select(\"id\").distinct().withColumn(\"T2\", lit(1))\n",
        "df_T3 = df_listingT3.select(\"id\").distinct().withColumn(\"T3\", lit(1))\n",
        "df_T4 = df_listingT4.select(\"id\").distinct().withColumn(\"T4\", lit(1))\n",
        "\n",
        "\n",
        "dfs = [df_T1, df_T2, df_T3, df_T4]\n",
        "\n",
        "df_presence = reduce(\n",
        "    lambda df1, df2: df1.join(df2, on=\"id\", how=\"outer\"),\n",
        "    dfs\n",
        ")\n",
        "\n",
        "\n",
        "df_presence = df_presence.fillna(0)\n",
        "\n",
        "\n",
        "from pyspark.sql.functions import concat, col\n",
        "\n",
        "df_presence = df_presence.withColumn(\n",
        "    \"Combination\",\n",
        "    concat(col(\"T1\").cast(\"int\"), col(\"T2\").cast(\"int\"), col(\"T3\").cast(\"int\"), col(\"T4\").cast(\"int\"))\n",
        ")\n",
        "\n",
        "\n",
        "df_combination_count = df_presence.groupBy(\"Combination\").count()\n",
        "\n",
        "\n",
        "df_plot = df_combination_count.toPandas()\n",
        "\n",
        "\n",
        "import plotly.express as px\n",
        "\n",
        "fig = px.sunburst(df_plot, path=[\"Combination\"], values=\"count\",\n",
        "                  title=\"Distribution des logements Airbnb par trimestre\")\n",
        "fig.show()\n"
      ]
    },
    {
      "cell_type": "code",
      "execution_count": 19,
      "metadata": {},
      "outputs": [
        {
          "name": "stdout",
          "output_type": "stream",
          "text": [
            "+----------------+-------------------+\n",
            "|          Period|Unique Airbnb Count|\n",
            "+----------------+-------------------+\n",
            "|Trimestre 1 Only|               7190|\n",
            "| Trimestr 2 Only|               3911|\n",
            "|Trimestre 3 Only|               1886|\n",
            "|Trimsetre 4 Only|               4888|\n",
            "+----------------+-------------------+\n",
            "\n"
          ]
        }
      ],
      "source": [
        "from pyspark.sql import functions as F\n",
        "\n",
        "\n",
        "set_T1 = set(df_listingT1.select(\"id\").rdd.flatMap(lambda x: x).collect())\n",
        "set_T2 = set(df_listingT2.select(\"id\").rdd.flatMap(lambda x: x).collect())\n",
        "set_T3 = set(df_listingT3.select(\"id\").rdd.flatMap(lambda x: x).collect())\n",
        "set_T4 = set(df_listingT4.select(\"id\").rdd.flatMap(lambda x: x).collect())\n",
        "\n",
        "# Calcul des différences entre les sets\n",
        "unique_T4 = set_T4 - set_T3 - set_T2 - set_T1\n",
        "unique_T1 = set_T1 - set_T4 - set_T3 - set_T2\n",
        "unique_T2 = set_T2 - set_T1 - set_T4 - set_T3\n",
        "unique_T3 = set_T3 - set_T2 - set_T1 - set_T4\n",
        "\n",
        "# Créer un tableau récapitulatif des listings uniques\n",
        "summary_table = {\n",
        "    'Trimestre 1 Only': len(unique_T1),\n",
        "    'Trimestr 2 Only': len(unique_T2),\n",
        "    'Trimestre 3 Only': len(unique_T3),\n",
        "    'Trimsetre 4 Only': len(unique_T4)\n",
        "}\n",
        "\n",
        "# Affichage du récapitulatif (sous forme de DataFrame PySpark)\n",
        "summary_df = spark.createDataFrame(list(summary_table.items()), [\"Period\", \"Unique Airbnb Count\"])\n",
        "summary_df.show()\n"
      ]
    },
    {
      "cell_type": "code",
      "execution_count": null,
      "metadata": {},
      "outputs": [
        {
          "data": {
            "image/png": "[encoded data removed]",
            "text/plain": [
              "<Figure size 640x480 with 1 Axes>"
            ]
          },
          "metadata": {},
          "output_type": "display_data"
        }
      ],
      "source": [
        "\n",
        "\n",
        "periods = [ 'Trim1 only', 'Trim2 Only' ,'Trim3 Only','Trim4 Only']\n",
        "unique_counts = [len(unique_T1) ,len(unique_T2) , len(unique_T3),len(unique_T4) ]\n",
        "\n",
        "plt.bar(periods, unique_counts, color='skyblue')\n",
        "plt.xlabel('Period')\n",
        "plt.ylabel('Number of Unique Airbnb Listings')\n",
        "plt.title('Number of Unique Airbnb Listings by Period')\n",
        "plt.show()"
      ]
    },
    {
      "cell_type": "code",
      "execution_count": 24,
      "metadata": {},
      "outputs": [
        {
          "name": "stdout",
          "output_type": "stream",
          "text": [
            "     Period Pair  Common Airbnb Count\n",
            "0  Trim4 & Trim1                65847\n",
            "1  Trim4 & Trim2                78092\n",
            "2  Trim4 & Trim3                85483\n"
          ]
        }
      ],
      "source": [
        "# Calculer les intersections entre les périodes\n",
        "common_Trim4_Trim1 = set_T4 & set_T1\n",
        "common_Trim4_Trim3 = set_T4 & set_T3\n",
        "common_Trim4_Trim2 = set_T4 & set_T2\n",
        "\n",
        "\n",
        "common_table_trim4andOthers = {\n",
        "    'Trim4 & Trim1': len(common_Trim4_Trim1),\n",
        "    'Trim4 & Trim2': len(common_Trim4_Trim2),\n",
        "    'Trim4 & Trim3': len(common_Trim4_Trim3),\n",
        "}\n",
        "\n",
        "\n",
        "print(pd.DataFrame(list(common_table_trim4andOthers.items()), columns=['Period Pair', 'Common Airbnb Count']))"
      ]
    },
    {
      "cell_type": "code",
      "execution_count": 26,
      "metadata": {},
      "outputs": [
        {
          "name": "stdout",
          "output_type": "stream",
          "text": [
            "Le nombre total annonce d'Airbnb uniques sur les 4 périodes est: 118021\n"
          ]
        }
      ],
      "source": [
        "\n",
        "all_ids_unique = set_T4.union(set_T3).union(set_T2).union(set_T1)\n",
        "\n",
        "# Nombre total d'Airbnb uniques\n",
        "total_airbnb = len(all_ids_unique)\n",
        "\n",
        "\n",
        "print(\"Le nombre total annonce d'Airbnb uniques sur les 4 périodes est:\", total_airbnb)"
      ]
    },
    {
      "cell_type": "code",
      "execution_count": 27,
      "metadata": {},
      "outputs": [
        {
          "name": "stdout",
          "output_type": "stream",
          "text": [
            "Le nombre d'Airbnb présents sur les 4 périodes est: 65003\n"
          ]
        }
      ],
      "source": [
        "# Filtrer les Airbnb présents sur les 4 périodes (en utilisant les IDs communs)\n",
        "common_ids = set_T4.intersection(set_T3, set_T2, set_T1)\n",
        "print(\"Le nombre d'Airbnb présents sur les 4 périodes est:\", len(common_ids))"
      ]
    },
    {
      "cell_type": "code",
      "execution_count": 28,
      "metadata": {},
      "outputs": [],
      "source": [
        "common_ids_df = spark.createDataFrame([(i,) for i in common_ids], [\"id\"])\n",
        "\n",
        "# Filtrage des DataFrames originaux avec les ids communs\n",
        "df_T1_filtered = df_listingT1.join(common_ids_df, on=\"id\", how=\"inner\")\n",
        "df_T2_filtered = df_listingT2.join(common_ids_df, on=\"id\", how=\"inner\")\n",
        "df_T3_filtered = df_listingT3.join(common_ids_df, on=\"id\", how=\"inner\")\n",
        "df_T4_filtered = df_listingT4.join(common_ids_df, on=\"id\", how=\"inner\")"
      ]
    },
    {
      "cell_type": "code",
      "execution_count": null,
      "metadata": {},
      "outputs": [
        {
          "name": "stdout",
          "output_type": "stream",
          "text": [
            "+-------+---------+--------------------+----------+------------+----------------------+-----------------+-----------+------------+---------------+--------+-----------------+--------------------+--------------+--------------------+---------------------------------+-------------------+------------------------+-------------+------------+\n",
            "|     id|row_id_T1|             name_T1|host_id_T1|host_name_T1|neighbourhood_group_T1| neighbourhood_T1|latitude_T1|longitude_T1|   room_type_T1|price_T1|minimum_nights_T1|number_of_reviews_T1|last_review_T1|reviews_per_month_T1|calculated_host_listings_count_T1|availability_365_T1|number_of_reviews_ltm_T1|   license_T1|trimestre_T1|\n",
            "+-------+---------+--------------------+----------+------------+----------------------+-----------------+-----------+------------+---------------+--------+-----------------+--------------------+--------------+--------------------+---------------------------------+-------------------+------------------------+-------------+------------+\n",
            "| 587868|     4497|Appartement famil...|   2845167|  Emmanuelle|                Unknow|Buttes-Montmartre|  48.889420|    2.343780|Entire home/apt|  529.00|                4|                  99|    2024-01-04|                0.71|                                1|                 92|                       4|7511802405981|           1|\n",
            "| 742950|     4678|Cosy Home Close T...|   3890718|      Debora|                Unknow|Buttes-Montmartre|  48.886230|    2.346940|Entire home/apt|    0.00|                3|                 120|    2024-03-04|                1.13|                                1|                  0|                      11|7511804565222|           1|\n",
            "|1065374|     5077|Haven of Beauty &...|   5862004|   Chrystele|                Unknow|       Luxembourg|  48.850440|    2.339240|Entire home/apt|  400.00|                7|                  38|    2019-06-12|                0.29|                                1|                 62|                       0|7510602223991|           1|\n",
            "|1030228|     5116|Comfly flat close...|   5668789|      Soraya|                Unknow|Buttes-Montmartre|  48.886490|    2.355000|Entire home/apt|   93.00|                2|                  82|    2023-10-23|                0.62|                                1|                 47|                       9|7511808716921|           1|\n",
            "|1222048|     5175|Large room in bri...|   3794586|   Benedicte|                Unknow|     Ménilmontant|  48.852830|    2.410620|   Private room|   43.00|                2|                  26|    2023-06-15|                0.23|                                1|                 86|                       3|7512000051104|           1|\n",
            "+-------+---------+--------------------+----------+------------+----------------------+-----------------+-----------+------------+---------------+--------+-----------------+--------------------+--------------+--------------------+---------------------------------+-------------------+------------------------+-------------+------------+\n",
            "only showing top 5 rows\n",
            "\n"
          ]
        }
      ],
      "source": [
        "df_T1_filteredbis = df_T1_filtered.select(*[col(c).alias(f\"{c}_T1\") if c != 'id' else col(c) for c in df_T1_filtered.columns])\n",
        "df_T1_filteredbis.show(5)"
      ]
    },
    {
      "cell_type": "code",
      "execution_count": 31,
      "metadata": {},
      "outputs": [
        {
          "data": {
            "text/plain": [
              "65003"
            ]
          },
          "execution_count": 31,
          "metadata": {},
          "output_type": "execute_result"
        }
      ],
      "source": [
        "df_T1_filteredbis.count()"
      ]
    },
    {
      "cell_type": "code",
      "execution_count": 34,
      "metadata": {},
      "outputs": [
        {
          "name": "stdout",
          "output_type": "stream",
          "text": [
            "+-----+--------+--------+--------+--------+\n",
            "|   id|price_T1|price_T2|price_T3|price_T4|\n",
            "+-----+--------+--------+--------+--------+\n",
            "| 5396|  107.00|   96.00|   95.00|   88.00|\n",
            "| 9952|  130.00|  169.00|  246.00|  150.00|\n",
            "|11798|  127.00|  119.00|  124.00|  120.00|\n",
            "|17316|    0.00|    0.00|    0.00|    0.00|\n",
            "|19029|   45.00|   52.00|   67.00|   59.00|\n",
            "+-----+--------+--------+--------+--------+\n",
            "only showing top 5 rows\n",
            "\n"
          ]
        }
      ],
      "source": [
        "\n",
        "df_T1_price = df_T1_filtered.select(\n",
        "    col(\"id\"),\n",
        "    col(\"price\").alias(\"price_T1\")\n",
        ")\n",
        "\n",
        "df_T2_price = df_T2_filtered.select(\n",
        "    col(\"id\"),\n",
        "    col(\"price\").alias(\"price_T2\")\n",
        ")\n",
        "\n",
        "df_T3_price = df_T3_filtered.select(\n",
        "    col(\"id\"),\n",
        "    col(\"price\").alias(\"price_T3\")\n",
        ")\n",
        "\n",
        "df_T4_price = df_T4_filtered.select(\n",
        "    col(\"id\"),\n",
        "    col(\"price\").alias(\"price_T4\")\n",
        ")\n",
        "\n",
        "\n",
        "merged_df = df_T1_price.join(df_T2_price, on=\"id\", how=\"inner\")\n",
        "merged_df = merged_df.join(df_T3_price, on=\"id\", how=\"inner\")\n",
        "merged_df = merged_df.join(df_T4_price, on=\"id\", how=\"inner\")\n",
        "merged_df.show(5)"
      ]
    },
    {
      "cell_type": "code",
      "execution_count": 37,
      "metadata": {},
      "outputs": [
        {
          "data": {
            "image/png": "[encoded data removed]",
            "text/plain": [
              "<Figure size 1000x600 with 1 Axes>"
            ]
          },
          "metadata": {},
          "output_type": "display_data"
        }
      ],
      "source": [
        "ids_sample = merged_df.select(\"id\").limit(10).toPandas()[\"id\"].tolist()\n",
        "\n",
        "merged_df_filtered = merged_df.filter(merged_df[\"id\"].isin(ids_sample))\n",
        "\n",
        "pdf = merged_df_filtered.toPandas()\n",
        "\n",
        "pdf_melted = pd.melt(\n",
        "    pdf,\n",
        "    id_vars=[\"id\"],\n",
        "    value_vars=[\"price_T1\", \"price_T2\", \"price_T3\", \"price_T4\"],\n",
        "    var_name=\"Trimestre\",\n",
        "    value_name=\"Prix\"\n",
        ")\n",
        "\n",
        "\n",
        "plt.figure(figsize=(10, 6))\n",
        "sns.lineplot(data=pdf_melted, x=\"Trimestre\", y=\"Prix\", hue=\"id\", marker=\"o\")\n",
        "plt.title(\"Évolution du prix sur 4 trimestres pour 10 listings\")\n",
        "plt.ylabel(\"Prix (en $)\")\n",
        "plt.xlabel(\"Trimestre\")\n",
        "plt.grid(True)\n",
        "plt.tight_layout()\n",
        "plt.show()\n"
      ]
    },
    {
      "cell_type": "code",
      "execution_count": 38,
      "metadata": {},
      "outputs": [
        {
          "data": {
            "image/png": "[encoded data removed]",
            "text/plain": [
              "<Figure size 800x500 with 1 Axes>"
            ]
          },
          "metadata": {},
          "output_type": "display_data"
        }
      ],
      "source": [
        "# Calcul des prix moyen de chaque trimestre\n",
        "mean_T1 = merged_df.selectExpr(\"avg(price_T1) as mean_T1\").toPandas()[\"mean_T1\"][0]\n",
        "mean_T2 = merged_df.selectExpr(\"avg(price_T2) as mean_T2\").toPandas()[\"mean_T2\"][0]\n",
        "mean_T3 = merged_df.selectExpr(\"avg(price_T3) as mean_T3\").toPandas()[\"mean_T3\"][0]\n",
        "mean_T4 = merged_df.selectExpr(\"avg(price_T4) as mean_T4\").toPandas()[\"mean_T4\"][0]\n",
        "\n",
        "\n",
        "\n",
        "\n",
        "df_mean_price = pd.DataFrame({\n",
        "    \"Trimestre\": [\"T1\", \"T2\", \"T3\", \"T4\"],\n",
        "    \"Prix Moyen\": [mean_T1, mean_T2, mean_T3, mean_T4]\n",
        "})\n",
        "\n",
        "\n",
        "plt.figure(figsize=(8, 5))\n",
        "sns.lineplot(data=df_mean_price, x=\"Trimestre\", y=\"Prix Moyen\", marker=\"o\")\n",
        "plt.title(\"Évolution du prix moyen des listings Airbnb\")\n",
        "plt.xlabel(\"Trimestre\")\n",
        "plt.ylabel(\"Prix moyen ($)\")\n",
        "plt.grid(True)\n",
        "plt.tight_layout()\n",
        "plt.show()\n"
      ]
    },
    {
      "cell_type": "code",
      "execution_count": 43,
      "metadata": {},
      "outputs": [],
      "source": [
        "from pyspark.sql.functions import col, avg, stddev, min, max, expr, percentile_approx\n",
        "\n",
        "def compute_stats(df, suffix):\n",
        "    stats = df.select(\n",
        "        avg(f\"price_{suffix}\").alias(\"mean\"),\n",
        "        expr(f\"percentile_approx(price_{suffix}, 0.5)\").alias(\"median\"),\n",
        "        stddev(f\"price_{suffix}\").alias(\"stddev\"),\n",
        "        min(f\"price_{suffix}\").alias(\"min\"),\n",
        "        max(f\"price_{suffix}\").alias(\"max\")\n",
        "    ).toPandas().iloc[0]\n",
        "    stats[\"Trimestre\"] = suffix\n",
        "    return stats\n",
        "\n",
        "\n",
        "stats_T1 = compute_stats(merged_df, \"T1\")\n",
        "stats_T2 = compute_stats(merged_df, \"T2\")\n",
        "stats_T3 = compute_stats(merged_df, \"T3\")\n",
        "stats_T4 = compute_stats(merged_df, \"T4\")\n",
        "\n",
        "df_stats = pd.DataFrame([stats_T1, stats_T2, stats_T3, stats_T4])\n",
        "\n",
        "df_stats = df_stats[[\"Trimestre\", \"mean\", \"median\", \"stddev\", \"min\", \"max\"]]\n",
        "df_stats = df_stats.sort_values(\"Trimestre\")\n",
        "\n",
        "df_stats = df_stats.round(2)\n"
      ]
    },
    {
      "cell_type": "code",
      "execution_count": 44,
      "metadata": {},
      "outputs": [
        {
          "data": {
            "image/png": "[encoded data removed]",
            "text/plain": [
              "<Figure size 1000x600 with 1 Axes>"
            ]
          },
          "metadata": {},
          "output_type": "display_data"
        }
      ],
      "source": [
        "\n",
        "plt.figure(figsize=(10, 6))\n",
        "\n",
        "\n",
        "plt.plot(df_stats[\"Trimestre\"], df_stats[\"mean\"], marker='o', label='Prix moyen')\n",
        "plt.plot(df_stats[\"Trimestre\"], df_stats[\"median\"], marker='s', label='Prix médian')\n",
        "\n",
        "# Bande pour l'écart-type\n",
        "plt.fill_between(df_stats[\"Trimestre\"],\n",
        "                 df_stats[\"mean\"].astype(float) - df_stats[\"stddev\"].astype(float),\n",
        "                 df_stats[\"mean\"].astype(float) + df_stats[\"stddev\"].astype(float),\n",
        "                 color='gray', alpha=0.2, label='±1 écart-type')\n",
        "\n",
        "# Finitions\n",
        "plt.title(\"Statistiques des prix Airbnb par trimestre\")\n",
        "plt.xlabel(\"Trimestre\")\n",
        "plt.ylabel(\"Prix ($)\")\n",
        "plt.legend()\n",
        "plt.grid(True)\n",
        "plt.tight_layout()\n",
        "plt.show()\n"
      ]
    },
    {
      "cell_type": "code",
      "execution_count": 46,
      "metadata": {},
      "outputs": [
        {
          "data": {
            "image/png": "[encoded data removed]",
            "text/plain": [
              "<Figure size 1000x600 with 1 Axes>"
            ]
          },
          "metadata": {},
          "output_type": "display_data"
        }
      ],
      "source": [
        "fig, ax = plt.subplots(figsize=(10, 6))\n",
        "\n",
        "sns.lineplot(data=df_stats, x=\"Trimestre\", y=\"min\", label=\"Min\", marker=\"o\", ax=ax, color=\"blue\")\n",
        "sns.lineplot(data=df_stats, x=\"Trimestre\", y=\"max\", label=\"Max\", marker=\"o\", ax=ax, color=\"red\")\n",
        "\n",
        "ax.set_title('Évolution des prix minimaux et maximaux', fontsize=14)\n",
        "ax.set_xlabel('Trimestre', fontsize=12)\n",
        "ax.set_ylabel('Prix', fontsize=12)\n",
        "ax.legend(title=\"Valeurs extrêmes\")\n",
        "\n",
        "plt.tight_layout()\n",
        "plt.show()\n"
      ]
    },
    {
      "cell_type": "code",
      "execution_count": 67,
      "metadata": {},
      "outputs": [
        {
          "name": "stdout",
          "output_type": "stream",
          "text": [
            "+-----+------+--------------------+-------+---------+-------------------+---------------+---------+---------+---------------+--------+--------------+-----------------+-----------+-----------------+------------------------------+----------------+---------------------+-------------+---------+------+--------------------+-------+---------+-------------------+---------------+---------+---------+---------------+--------+--------------+-----------------+-----------+-----------------+------------------------------+----------------+---------------------+-------------+---------+------+--------------------+-------+---------+-------------------+---------------+---------+---------+---------------+--------+--------------+-----------------+-----------+-----------------+------------------------------+----------------+---------------------+-------------+---------+------+--------------------+-------+---------+-------------------+---------------+---------+---------+---------------+--------+--------------+-----------------+-----------+-----------------+------------------------------+----------------+---------------------+-------------+---------+\n",
            "|   id|row_id|                name|host_id|host_name|neighbourhood_group|  neighbourhood| latitude|longitude|      room_type|price_T4|minimum_nights|number_of_reviews|last_review|reviews_per_month|calculated_host_listings_count|availability_365|number_of_reviews_ltm|      license|trimestre|row_id|                name|host_id|host_name|neighbourhood_group|  neighbourhood| latitude|longitude|      room_type|price_T1|minimum_nights|number_of_reviews|last_review|reviews_per_month|calculated_host_listings_count|availability_365|number_of_reviews_ltm|      license|trimestre|row_id|                name|host_id|host_name|neighbourhood_group|  neighbourhood| latitude|longitude|      room_type|price_T2|minimum_nights|number_of_reviews|last_review|reviews_per_month|calculated_host_listings_count|availability_365|number_of_reviews_ltm|      license|trimestre|row_id|                name|host_id|host_name|neighbourhood_group|  neighbourhood| latitude|longitude|      room_type|price_T3|minimum_nights|number_of_reviews|last_review|reviews_per_month|calculated_host_listings_count|availability_365|number_of_reviews_ltm|      license|trimestre|\n",
            "+-----+------+--------------------+-------+---------+-------------------+---------------+---------+---------+---------------+--------+--------------+-----------------+-----------+-----------------+------------------------------+----------------+---------------------+-------------+---------+------+--------------------+-------+---------+-------------------+---------------+---------+---------+---------------+--------+--------------+-----------------+-----------+-----------------+------------------------------+----------------+---------------------+-------------+---------+------+--------------------+-------+---------+-------------------+---------------+---------+---------+---------------+--------+--------------+-----------------+-----------+-----------------+------------------------------+----------------+---------------------+-------------+---------+------+--------------------+-------+---------+-------------------+---------------+---------+---------+---------------+--------+--------------+-----------------+-----------+-----------------+------------------------------+----------------+---------------------+-------------+---------+\n",
            "| 5396|279744|Your perfect Pari...|   7903|   Borzou|             Unknow| Hôtel-de-Ville|48.852470| 2.358350|Entire home/apt|   88.00|             3|              425| 2024-11-23|             2.26|                             1|              77|                   51|7510402838018|        4|  4005|Your perfect Pari...|   7903|   Borzou|             Unknow| Hôtel-de-Ville|48.852470| 2.358350|Entire home/apt|  107.00|             1|              393| 2024-03-14|             2.19|                             2|             183|                   61|7510402838018|        1|118958|Your perfect Pari...|   7903|   Borzou|             Unknow| Hôtel-de-Ville|48.852470| 2.358350|Entire home/apt|   96.00|             2|              403| 2024-05-24|             2.21|                             1|             154|                   64|7510402838018|        2|184364|Your perfect Pari...|   7903|   Borzou|             Unknow| Hôtel-de-Ville|48.852470| 2.358350|Entire home/apt|   95.00|             2|              413| 2024-09-01|             2.23|                             1|              77|                   57|7510402838018|        3|\n",
            "| 9952|279746|Paris petit coin ...|  33534|Elisabeth|             Unknow|     Popincourt|48.862380| 2.369570|Entire home/apt|  150.00|             4|               52| 2024-09-24|             0.36|                             1|             250|                    3|7511101582862|        4|  4018|Paris petit coin ...|  33534|Elisabeth|             Unknow|     Popincourt|48.863730| 2.370930|Entire home/apt|  130.00|             4|               49| 2023-09-24|             0.37|                             1|              18|                    7|7511101582862|        1|138634|Paris petit coin ...|  33534|Elisabeth|             Unknow|     Popincourt|48.863730| 2.370930|Entire home/apt|  169.00|             4|               51| 2024-05-23|             0.37|                             1|             105|                    4|7511101582862|        2|184368|Paris petit coin ...|  33534|Elisabeth|             Unknow|     Popincourt|48.863730| 2.370930|Entire home/apt|  246.00|             4|               51| 2024-05-23|             0.36|                             1|             183|                    3|7511101582862|        3|\n",
            "|17316|279847|BEAUTIFUL APT IN ...|  67192|    Frank|             Unknow|       Entrepôt|48.871720| 2.361840|Entire home/apt|    0.00|             3|                0|       NULL|             NULL|                             1|               0|                    0|7512345678902|        4|  4060|BEAUTIFUL APT IN ...|  67192|    Frank|             Unknow|       Entrepôt|48.871720| 2.361840|Entire home/apt|    0.00|             3|                0|       NULL|             NULL|                             1|               0|                    0|7512345678902|        1|113498|BEAUTIFUL APT IN ...|  67192|    Frank|             Unknow|       Entrepôt|48.871720| 2.361840|Entire home/apt|    0.00|             3|                0|       NULL|             NULL|                             1|               0|                    0|7512345678902|        2|184380|BEAUTIFUL APT IN ...|  67192|    Frank|             Unknow|       Entrepôt|48.871720| 2.361840|Entire home/apt|    0.00|             3|                0|       NULL|             NULL|                             1|               0|                    0|7512345678902|        3|\n",
            "|22979|279850|Staying in the He...|  89023|     Lisa|             Unknow| Hôtel-de-Ville|48.854240| 2.349750|   Private room|   90.00|             3|              325| 2024-11-17|             1.84|                             1|              20|                   14|         NULL|        4|  4082|Staying in the He...|  89023|     Lisa|             Unknow| Hôtel-de-Ville|48.854240| 2.349750|   Private room|    0.00|             3|              315| 2024-03-16|             1.87|                             1|               0|                   18|         NULL|        1|164325|Staying in the He...|  89023|     Lisa|             Unknow| Hôtel-de-Ville|48.854240| 2.349750|   Private room|    0.00|             3|              320| 2024-06-06|             1.87|                             1|               0|                   20|         NULL|        2|184386|Staying in the He...|  89023|     Lisa|             Unknow| Hôtel-de-Ville|48.854240| 2.349750|   Private room|    0.00|             3|              320| 2024-06-06|             1.84|                             1|               2|                   17|         NULL|        3|\n",
            "|26827|279854|UN LOFT A PARIS B...| 114407|   Jrouma|             Unknow|Buttes-Chaumont|48.874560| 2.385320|Entire home/apt|   97.00|             7|               80| 2019-10-27|             0.45|                             2|              67|                    0|7512005333644|        4|  4100|UN LOFT A PARIS B...| 114407|   Jrouma|             Unknow|Buttes-Chaumont|48.874560| 2.385320|Entire home/apt|   97.00|             7|               80| 2019-10-27|             0.48|                             2|             137|                    0|7512005333644|        1|145603|UN LOFT A PARIS B...| 114407|   Jrouma|             Unknow|Buttes-Chaumont|48.874560| 2.385320|Entire home/apt|   97.00|             7|               80| 2019-10-27|             0.47|                             2|             223|                    0|7512005333644|        2|184392|UN LOFT A PARIS B...| 114407|   Jrouma|             Unknow|Buttes-Chaumont|48.874560| 2.385320|Entire home/apt|   97.00|             7|               80| 2019-10-27|             0.46|                             2|               0|                    0|7512005333644|        3|\n",
            "+-----+------+--------------------+-------+---------+-------------------+---------------+---------+---------+---------------+--------+--------------+-----------------+-----------+-----------------+------------------------------+----------------+---------------------+-------------+---------+------+--------------------+-------+---------+-------------------+---------------+---------+---------+---------------+--------+--------------+-----------------+-----------+-----------------+------------------------------+----------------+---------------------+-------------+---------+------+--------------------+-------+---------+-------------------+---------------+---------+---------+---------------+--------+--------------+-----------------+-----------+-----------------+------------------------------+----------------+---------------------+-------------+---------+------+--------------------+-------+---------+-------------------+---------------+---------+---------+---------------+--------+--------------+-----------------+-----------+-----------------+------------------------------+----------------+---------------------+-------------+---------+\n",
            "only showing top 5 rows\n",
            "\n"
          ]
        }
      ],
      "source": [
        "df_T1_filtered = df_T1_filtered.withColumnRenamed(\"price\", \"price_T1\")\n",
        "df_T2_filtered = df_T2_filtered.withColumnRenamed(\"price\", \"price_T2\")\n",
        "df_T3_filtered = df_T3_filtered.withColumnRenamed(\"price\", \"price_T3\")\n",
        "df_T4_filtered = df_T4_filtered.withColumnRenamed(\"price\", \"price_T4\")\n",
        "\n",
        "merged_df = df_T4_filtered.join(df_T1_filtered, on=\"id\", how=\"inner\") \\\n",
        "                          .join(df_T2_filtered, on=\"id\", how=\"inner\") \\\n",
        "                          .join(df_T3_filtered, on=\"id\", how=\"inner\")\n",
        "                        \n",
        "merged_df.show(5)"
      ]
    },
    {
      "cell_type": "code",
      "execution_count": 68,
      "metadata": {
        "colab": {
          "base_uri": "https://localhost:8080/"
        },
        "id": "vubvJcPfuykX",
        "outputId": "deffccbc-2e68-41c1-c039-f0b5ec9becda"
      },
      "outputs": [
        {
          "name": "stdout",
          "output_type": "stream",
          "text": [
            "+-----+--------+--------+--------+--------+---------------+---------------+---------------+\n",
            "|   id|price_T1|price_T2|price_T3|price_T4|variation_T1_T2|variation_T2_T3|variation_T3_T4|\n",
            "+-----+--------+--------+--------+--------+---------------+---------------+---------------+\n",
            "| 5396|  107.00|   96.00|   95.00|   88.00|         -11.00|          -1.00|          -7.00|\n",
            "| 9952|  130.00|  169.00|  246.00|  150.00|          39.00|          77.00|         -96.00|\n",
            "|11798|  127.00|  119.00|  124.00|  120.00|          -8.00|           5.00|          -4.00|\n",
            "|17316|    0.00|    0.00|    0.00|    0.00|           0.00|           0.00|           0.00|\n",
            "|19029|   45.00|   52.00|   67.00|   59.00|           7.00|          15.00|          -8.00|\n",
            "|22979|    0.00|    0.00|    0.00|   90.00|           0.00|           0.00|          90.00|\n",
            "|26827|   97.00|   97.00|   97.00|   97.00|           0.00|           0.00|           0.00|\n",
            "|36724|   93.00|   90.00|    0.00|    0.00|          -3.00|         -90.00|           0.00|\n",
            "|38650|   65.00|   65.00|   76.00|   56.00|           0.00|          11.00|         -20.00|\n",
            "|39666|  910.00|  910.00|  910.00|  910.00|           0.00|           0.00|           0.00|\n",
            "|43027|  180.00|  180.00|    0.00|  180.00|           0.00|        -180.00|         180.00|\n",
            "|43055|  110.00|  110.00|  110.00|  110.00|           0.00|           0.00|           0.00|\n",
            "|48498|  239.00|  239.00|  182.00|  234.00|           0.00|         -57.00|          52.00|\n",
            "|63480|  180.00|  180.00|  180.00|  180.00|           0.00|           0.00|           0.00|\n",
            "|75708|   65.00|   70.00|   70.00|   70.00|           5.00|           0.00|           0.00|\n",
            "|78366|  110.00|  110.00|  180.00|  180.00|           0.00|          70.00|           0.00|\n",
            "|81106|  110.00|  125.00|  128.00|  115.00|          15.00|           3.00|         -13.00|\n",
            "|81615|    0.00|   73.00|   73.00|   73.00|          73.00|           0.00|           0.00|\n",
            "|94270|  149.00|  159.00|  159.00|  159.00|          10.00|           0.00|           0.00|\n",
            "|95915|  117.00|  137.00|  160.00|  150.00|          20.00|          23.00|         -10.00|\n",
            "+-----+--------+--------+--------+--------+---------------+---------------+---------------+\n",
            "only showing top 20 rows\n",
            "\n",
            "+-------+-----------------+------------------+------------------+\n",
            "|summary|  variation_T1_T2|   variation_T2_T3|   variation_T3_T4|\n",
            "+-------+-----------------+------------------+------------------+\n",
            "|  count|            65003|             65003|             65003|\n",
            "|   mean|         6.401397|        -36.119702|        -13.069751|\n",
            "| stddev|451.4339140253441|426.25838428347066|247.64080631221788|\n",
            "|    min|        -53129.00|         -39917.00|         -24200.00|\n",
            "|    max|         39923.00|          29810.00|          10000.00|\n",
            "+-------+-----------------+------------------+------------------+\n",
            "\n"
          ]
        }
      ],
      "source": [
        "merged_df = merged_df.withColumn(\"variation_T1_T2\", F.col(\"price_T2\") - F.col(\"price_T1\")) \\\n",
        "                     .withColumn(\"variation_T2_T3\", F.col(\"price_T3\") - F.col(\"price_T2\")) \\\n",
        "                     .withColumn(\"variation_T3_T4\", F.col(\"price_T4\") - F.col(\"price_T3\"))\n",
        "\n",
        "\n",
        "merged_df.select(\"id\", \"price_T1\", \"price_T2\", \"price_T3\", \"price_T4\",\n",
        "                 \"variation_T1_T2\", \"variation_T2_T3\", \"variation_T3_T4\").show()\n",
        "\n",
        "# Statistiques descriptives\n",
        "merged_df.select(\"variation_T1_T2\", \"variation_T2_T3\", \"variation_T3_T4\").describe().show()"
      ]
    },
    {
      "cell_type": "code",
      "execution_count": 70,
      "metadata": {
        "id": "m9jxIc5SmCVJ"
      },
      "outputs": [
        {
          "data": {
            "image/png": "[encoded data removed]",
            "text/plain": [
              "<Figure size 1000x600 with 1 Axes>"
            ]
          },
          "metadata": {},
          "output_type": "display_data"
        }
      ],
      "source": [
        "import matplotlib.pyplot as plt\n",
        "import numpy as np\n",
        "\n",
        "mean_variations = [\n",
        "    merged_df.select(\"variation_T1_T2\").agg({\"variation_T1_T2\": \"avg\"}).collect()[0][0],\n",
        "    merged_df.select(\"variation_T2_T3\").agg({\"variation_T2_T3\": \"avg\"}).collect()[0][0],\n",
        "    merged_df.select(\"variation_T3_T4\").agg({\"variation_T3_T4\": \"avg\"}).collect()[0][0]\n",
        "]\n",
        "\n",
        "trimestres = ['T1-T2', 'T2-T3', 'T3-T4']\n",
        "\n",
        "plt.figure(figsize=(10, 6))\n",
        "plt.plot(trimestres, mean_variations, marker='o', label='Moyenne des variations', color='blue')\n",
        "\n",
        "plt.title('Moyenne des variations de prix entre les trimestres', fontsize=14)\n",
        "plt.xlabel('Périodes', fontsize=12)\n",
        "plt.ylabel('Variation des prix (€)', fontsize=12)\n",
        "plt.legend(title=\"Variations de prix\", loc=\"upper left\")\n",
        "\n",
        "plt.tight_layout()\n",
        "plt.show()\n"
      ]
    },
    {
      "cell_type": "code",
      "execution_count": null,
      "metadata": {
        "id": "1lZCe_qkjcKs"
      },
      "outputs": [],
      "source": []
    }
  ],
  "metadata": {
    "colab": {
      "provenance": []
    },
    "kernelspec": {
      "display_name": "venv",
      "language": "python",
      "name": "python3"
    },
    "language_info": {
      "codemirror_mode": {
        "name": "ipython",
        "version": 3
      },
      "file_extension": ".py",
      "mimetype": "text/x-python",
      "name": "python",
      "nbconvert_exporter": "python",
      "pygments_lexer": "ipython3",
      "version": "3.10.0"
    }
  },
  "nbformat": 4,
  "nbformat_minor": 0
}
